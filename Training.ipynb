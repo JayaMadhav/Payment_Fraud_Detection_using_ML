{
 "cells": [
  {
   "cell_type": "code",
   "execution_count": null,
   "metadata": {
    "_cell_guid": "b1076dfc-b9ad-4769-8c92-a6c4dae69d19",
    "_uuid": "8f2839f25d086af736a60e9eeb907d3b93b6e0e5",
    "trusted": true
   },
   "outputs": [],
   "source": [
    "import numpy as np # linear algebra\n",
    "import pandas as pd # data processing, CSV file I/O (e.g. pd.read_csv)\n",
    "\n",
    "import os\n",
    "for dirname, _, filenames in os.walk('/kaggle/input'):\n",
    "    for filename in filenames:\n",
    "        print(os.path.join(dirname, filename))\n"
   ]
  },
  {
   "cell_type": "code",
   "execution_count": 1,
   "metadata": {
    "execution": {
     "iopub.execute_input": "2024-11-28T12:43:25.156857Z",
     "iopub.status.busy": "2024-11-28T12:43:25.156479Z",
     "iopub.status.idle": "2024-11-28T12:43:26.405691Z",
     "shell.execute_reply": "2024-11-28T12:43:26.404593Z",
     "shell.execute_reply.started": "2024-11-28T12:43:25.156810Z"
    },
    "trusted": true
   },
   "outputs": [],
   "source": [
    "import pandas as pd\n",
    "\n",
    "# Use the correct path for the Kaggle dataset\n",
    "df = pd.read_csv('/kaggle/input/raw-dataset/raw_dataset.csv')\n",
    "\n",
    "# Continue with the rest of the processing\n",
    "df_sampled = df.sample(n=14000, random_state=42)\n",
    "df_sampled.to_csv('new_dataset.csv', index=False)\n"
   ]
  },
  {
   "cell_type": "code",
   "execution_count": 2,
   "metadata": {
    "execution": {
     "iopub.execute_input": "2024-11-28T12:43:36.988419Z",
     "iopub.status.busy": "2024-11-28T12:43:36.987983Z",
     "iopub.status.idle": "2024-11-28T12:43:37.095112Z",
     "shell.execute_reply": "2024-11-28T12:43:37.093843Z",
     "shell.execute_reply.started": "2024-11-28T12:43:36.988383Z"
    },
    "trusted": true
   },
   "outputs": [
    {
     "name": "stdout",
     "output_type": "stream",
     "text": [
      "The new dataset is saved as 'new_dataset.csv' in the output directory.\n"
     ]
    }
   ],
   "source": [
    "# Save the reduced dataset to a new CSV file\n",
    "df_sampled.to_csv('/kaggle/working/new_dataset.csv', index=False)\n",
    "\n",
    "# Print a message to confirm the location\n",
    "print(\"The new dataset is saved as 'new_dataset.csv' in the output directory.\")"
   ]
  },
  {
   "cell_type": "code",
   "execution_count": 3,
   "metadata": {
    "execution": {
     "iopub.execute_input": "2024-11-28T12:43:40.782499Z",
     "iopub.status.busy": "2024-11-28T12:43:40.782094Z",
     "iopub.status.idle": "2024-11-28T12:43:42.088182Z",
     "shell.execute_reply": "2024-11-28T12:43:42.085511Z",
     "shell.execute_reply.started": "2024-11-28T12:43:40.782465Z"
    },
    "trusted": true
   },
   "outputs": [],
   "source": [
    "import pandas as pd\n",
    "import numpy as np\n",
    "import os\n",
    "import matplotlib.pyplot as plt\n",
    "import seaborn as sns\n",
    "from sklearn.model_selection import train_test_split\n",
    "from sklearn.preprocessing import LabelEncoder, MinMaxScaler\n",
    "import joblib\n",
    "import boto3\n",
    "import warnings\n",
    "\n",
    "# Suppress FutureWarnings if necessary (optional)\n",
    "warnings.filterwarnings(\"ignore\", category=FutureWarning)"
   ]
  },
  {
   "cell_type": "code",
   "execution_count": 4,
   "metadata": {
    "execution": {
     "iopub.execute_input": "2024-11-28T12:43:45.972712Z",
     "iopub.status.busy": "2024-11-28T12:43:45.972144Z",
     "iopub.status.idle": "2024-11-28T12:43:46.017367Z",
     "shell.execute_reply": "2024-11-28T12:43:46.016088Z",
     "shell.execute_reply.started": "2024-11-28T12:43:45.972674Z"
    },
    "trusted": true
   },
   "outputs": [
    {
     "name": "stdout",
     "output_type": "stream",
     "text": [
      "Number of duplicate rows before dropping:  0\n",
      "Number of duplicate rows after dropping:  0\n"
     ]
    }
   ],
   "source": [
    "def handle_duplicates(dataframe):\n",
    "    print(\"Number of duplicate rows before dropping: \", dataframe.duplicated().sum())\n",
    "    dataframe.drop_duplicates(inplace=True)\n",
    "    print(\"Number of duplicate rows after dropping: \", dataframe.duplicated().sum())\n",
    "\n",
    "handle_duplicates(df)"
   ]
  },
  {
   "cell_type": "code",
   "execution_count": 5,
   "metadata": {
    "execution": {
     "iopub.execute_input": "2024-11-28T12:43:53.208231Z",
     "iopub.status.busy": "2024-11-28T12:43:53.207830Z",
     "iopub.status.idle": "2024-11-28T12:43:53.258243Z",
     "shell.execute_reply": "2024-11-28T12:43:53.257095Z",
     "shell.execute_reply.started": "2024-11-28T12:43:53.208196Z"
    },
    "trusted": true
   },
   "outputs": [
    {
     "name": "stdout",
     "output_type": "stream",
     "text": [
      "\n",
      "Missing Values Summary:\n",
      " step              0\n",
      "type              0\n",
      "amount            0\n",
      "nameOrig          0\n",
      "oldbalanceOrg     0\n",
      "newbalanceOrig    0\n",
      "nameDest          0\n",
      "oldbalanceDest    0\n",
      "newbalanceDest    0\n",
      "isFraud           0\n",
      "isFlaggedFraud    0\n",
      "dtype: int64\n",
      "\n",
      "After Handling Missing Values:\n",
      " step              0\n",
      "type              0\n",
      "amount            0\n",
      "nameOrig          0\n",
      "oldbalanceOrg     0\n",
      "newbalanceOrig    0\n",
      "nameDest          0\n",
      "oldbalanceDest    0\n",
      "newbalanceDest    0\n",
      "isFraud           0\n",
      "isFlaggedFraud    0\n",
      "dtype: int64\n"
     ]
    }
   ],
   "source": [
    "def handle_missing_values(dataframe):\n",
    "    missing_values_summary = dataframe.isnull().sum()\n",
    "    print(\"\\nMissing Values Summary:\\n\", missing_values_summary)\n",
    "    \n",
    "    # Handle missing values\n",
    "    for column in dataframe.columns:\n",
    "        if dataframe[column].dtype in ['int64', 'float64']:\n",
    "            median_value = dataframe[column].median()\n",
    "            dataframe[column] = dataframe[column].fillna(median_value)  # No inplace=True to avoid warning\n",
    "        elif dataframe[column].dtype == 'object':\n",
    "            mode_value = dataframe[column].mode()[0]\n",
    "            dataframe[column] = dataframe[column].fillna(mode_value)  # No inplace=True to avoid warning\n",
    "    print(\"\\nAfter Handling Missing Values:\\n\", dataframe.isnull().sum())\n",
    "\n",
    "handle_missing_values(df)"
   ]
  },
  {
   "cell_type": "code",
   "execution_count": 6,
   "metadata": {
    "execution": {
     "iopub.execute_input": "2024-11-28T12:43:59.203591Z",
     "iopub.status.busy": "2024-11-28T12:43:59.203188Z",
     "iopub.status.idle": "2024-11-28T12:43:59.212959Z",
     "shell.execute_reply": "2024-11-28T12:43:59.211721Z",
     "shell.execute_reply.started": "2024-11-28T12:43:59.203554Z"
    },
    "trusted": true
   },
   "outputs": [
    {
     "name": "stdout",
     "output_type": "stream",
     "text": [
      "Dropped unnecessary columns:  ['step', 'nameOrig', 'nameDest', 'oldbalanceDest', 'newbalanceDest', 'isFlaggedFraud']\n"
     ]
    }
   ],
   "source": [
    "def drop_unnecessary_columns(dataframe, columns):\n",
    "    dataframe.drop(columns=columns, inplace=True)\n",
    "    print(\"Dropped unnecessary columns: \", columns)\n",
    "\n",
    "columns_to_drop = ['step', 'nameOrig', 'nameDest', 'oldbalanceDest', 'newbalanceDest', 'isFlaggedFraud']\n",
    "drop_unnecessary_columns(df, columns_to_drop)"
   ]
  },
  {
   "cell_type": "code",
   "execution_count": 7,
   "metadata": {
    "execution": {
     "iopub.execute_input": "2024-11-28T12:44:17.268444Z",
     "iopub.status.busy": "2024-11-28T12:44:17.268078Z",
     "iopub.status.idle": "2024-11-28T12:44:17.296138Z",
     "shell.execute_reply": "2024-11-28T12:44:17.294784Z",
     "shell.execute_reply.started": "2024-11-28T12:44:17.268416Z"
    },
    "trusted": true
   },
   "outputs": [
    {
     "name": "stdout",
     "output_type": "stream",
     "text": [
      "Categorical features converted to numerical format.\n",
      "Updated 'isFraud' column with categorical labels.\n"
     ]
    },
    {
     "data": {
      "text/html": [
       "<div>\n",
       "<style scoped>\n",
       "    .dataframe tbody tr th:only-of-type {\n",
       "        vertical-align: middle;\n",
       "    }\n",
       "\n",
       "    .dataframe tbody tr th {\n",
       "        vertical-align: top;\n",
       "    }\n",
       "\n",
       "    .dataframe thead th {\n",
       "        text-align: right;\n",
       "    }\n",
       "</style>\n",
       "<table border=\"1\" class=\"dataframe\">\n",
       "  <thead>\n",
       "    <tr style=\"text-align: right;\">\n",
       "      <th></th>\n",
       "      <th>type</th>\n",
       "      <th>amount</th>\n",
       "      <th>oldbalanceOrg</th>\n",
       "      <th>newbalanceOrig</th>\n",
       "      <th>isFraud</th>\n",
       "    </tr>\n",
       "  </thead>\n",
       "  <tbody>\n",
       "    <tr>\n",
       "      <th>0</th>\n",
       "      <td>3</td>\n",
       "      <td>9839.64</td>\n",
       "      <td>170136.00</td>\n",
       "      <td>160296.36</td>\n",
       "      <td>No Fraud</td>\n",
       "    </tr>\n",
       "    <tr>\n",
       "      <th>1</th>\n",
       "      <td>3</td>\n",
       "      <td>1864.28</td>\n",
       "      <td>21249.00</td>\n",
       "      <td>19384.72</td>\n",
       "      <td>No Fraud</td>\n",
       "    </tr>\n",
       "    <tr>\n",
       "      <th>2</th>\n",
       "      <td>4</td>\n",
       "      <td>181.00</td>\n",
       "      <td>181.00</td>\n",
       "      <td>0.00</td>\n",
       "      <td>Fraud</td>\n",
       "    </tr>\n",
       "    <tr>\n",
       "      <th>3</th>\n",
       "      <td>1</td>\n",
       "      <td>181.00</td>\n",
       "      <td>181.00</td>\n",
       "      <td>0.00</td>\n",
       "      <td>Fraud</td>\n",
       "    </tr>\n",
       "    <tr>\n",
       "      <th>4</th>\n",
       "      <td>3</td>\n",
       "      <td>11668.14</td>\n",
       "      <td>41554.00</td>\n",
       "      <td>29885.86</td>\n",
       "      <td>No Fraud</td>\n",
       "    </tr>\n",
       "    <tr>\n",
       "      <th>5</th>\n",
       "      <td>3</td>\n",
       "      <td>7817.71</td>\n",
       "      <td>53860.00</td>\n",
       "      <td>46042.29</td>\n",
       "      <td>No Fraud</td>\n",
       "    </tr>\n",
       "    <tr>\n",
       "      <th>6</th>\n",
       "      <td>3</td>\n",
       "      <td>7107.77</td>\n",
       "      <td>183195.00</td>\n",
       "      <td>176087.23</td>\n",
       "      <td>No Fraud</td>\n",
       "    </tr>\n",
       "    <tr>\n",
       "      <th>7</th>\n",
       "      <td>3</td>\n",
       "      <td>7861.64</td>\n",
       "      <td>176087.23</td>\n",
       "      <td>168225.59</td>\n",
       "      <td>No Fraud</td>\n",
       "    </tr>\n",
       "    <tr>\n",
       "      <th>8</th>\n",
       "      <td>3</td>\n",
       "      <td>4024.36</td>\n",
       "      <td>2671.00</td>\n",
       "      <td>0.00</td>\n",
       "      <td>No Fraud</td>\n",
       "    </tr>\n",
       "    <tr>\n",
       "      <th>9</th>\n",
       "      <td>2</td>\n",
       "      <td>5337.77</td>\n",
       "      <td>41720.00</td>\n",
       "      <td>36382.23</td>\n",
       "      <td>No Fraud</td>\n",
       "    </tr>\n",
       "  </tbody>\n",
       "</table>\n",
       "</div>"
      ],
      "text/plain": [
       "   type    amount  oldbalanceOrg  newbalanceOrig   isFraud\n",
       "0     3   9839.64      170136.00       160296.36  No Fraud\n",
       "1     3   1864.28       21249.00        19384.72  No Fraud\n",
       "2     4    181.00         181.00            0.00     Fraud\n",
       "3     1    181.00         181.00            0.00     Fraud\n",
       "4     3  11668.14       41554.00        29885.86  No Fraud\n",
       "5     3   7817.71       53860.00        46042.29  No Fraud\n",
       "6     3   7107.77      183195.00       176087.23  No Fraud\n",
       "7     3   7861.64      176087.23       168225.59  No Fraud\n",
       "8     3   4024.36        2671.00            0.00  No Fraud\n",
       "9     2   5337.77       41720.00        36382.23  No Fraud"
      ]
     },
     "execution_count": 7,
     "metadata": {},
     "output_type": "execute_result"
    }
   ],
   "source": [
    "categorical_cols = df.select_dtypes(include=['object']).columns\n",
    "label_encoders = {}\n",
    "for col in categorical_cols:\n",
    "    le = LabelEncoder()\n",
    "    df[col] = le.fit_transform(df[col])\n",
    "    label_encoders[col] = le\n",
    "print(\"Categorical features converted to numerical format.\")\n",
    "\n",
    "# Map Categorical Name for 'isFraud' Column\n",
    "# Update the 'isFraud' column to represent classes with labels for better interpretability\n",
    "df[\"isFraud\"] = df[\"isFraud\"].map({\n",
    "    0: \"No Fraud\", 1: \"Fraud\"\n",
    "})\n",
    "print(\"Updated 'isFraud' column with categorical labels.\")\n",
    "\n",
    "df.head(10)"
   ]
  },
  {
   "cell_type": "code",
   "execution_count": 8,
   "metadata": {
    "execution": {
     "iopub.execute_input": "2024-11-28T12:44:21.458186Z",
     "iopub.status.busy": "2024-11-28T12:44:21.457757Z",
     "iopub.status.idle": "2024-11-28T12:44:21.740603Z",
     "shell.execute_reply": "2024-11-28T12:44:21.739514Z",
     "shell.execute_reply.started": "2024-11-28T12:44:21.458152Z"
    },
    "trusted": true
   },
   "outputs": [
    {
     "data": {
      "image/png": "[encoded data removed]",
      "text/plain": [
       "<Figure size 600x400 with 1 Axes>"
      ]
     },
     "metadata": {},
     "output_type": "display_data"
    },
    {
     "name": "stdout",
     "output_type": "stream",
     "text": [
      "\n",
      "Fraudulent Transaction Summary:\n",
      " isFraud\n",
      "No Fraud    14164\n",
      "Fraud          78\n",
      "Name: count, dtype: int64\n",
      "\n",
      "Warning: The dataset is highly imbalanced. Consider resampling techniques (e.g., SMOTE, oversampling, or undersampling).\n"
     ]
    }
   ],
   "source": [
    "import matplotlib.pyplot as plt\n",
    "import seaborn as sns\n",
    "\n",
    "def check_balance(dataframe):\n",
    "    \"\"\"\n",
    "    Displays the distribution of fraudulent vs. non-fraudulent transactions\n",
    "    and checks for class imbalance in the dataset.\n",
    "    \"\"\"\n",
    "    # Plot fraudulent vs non-fraudulent transactions\n",
    "    plt.figure(figsize=(6, 4))\n",
    "    sns.countplot(data=dataframe, x='isFraud', palette='viridis')  # Removed hue to avoid redundancy\n",
    "    plt.title('Fraudulent vs Non-Fraudulent Transactions')\n",
    "    plt.xlabel('Is Fraudulent (0 = No, 1 = Yes)')\n",
    "    plt.ylabel('Count')\n",
    "    plt.show()\n",
    "\n",
    "    # Print fraudulent transaction summary\n",
    "    fraud_count = dataframe['isFraud'].value_counts()\n",
    "    print(\"\\nFraudulent Transaction Summary:\\n\", fraud_count)\n",
    "\n",
    "    # Check for imbalance\n",
    "    imbalance_ratio = fraud_count.min() / fraud_count.max()\n",
    "    if imbalance_ratio < 0.1:\n",
    "        print(\"\\nWarning: The dataset is highly imbalanced. Consider resampling techniques (e.g., SMOTE, oversampling, or undersampling).\")\n",
    "\n",
    "# Call the function with your DataFrame\n",
    "check_balance(df)\n"
   ]
  },
  {
   "cell_type": "code",
   "execution_count": 9,
   "metadata": {
    "execution": {
     "iopub.execute_input": "2024-11-28T12:44:27.437893Z",
     "iopub.status.busy": "2024-11-28T12:44:27.437481Z",
     "iopub.status.idle": "2024-11-28T12:44:27.897928Z",
     "shell.execute_reply": "2024-11-28T12:44:27.896716Z",
     "shell.execute_reply.started": "2024-11-28T12:44:27.437857Z"
    },
    "trusted": true
   },
   "outputs": [
    {
     "name": "stdout",
     "output_type": "stream",
     "text": [
      "Using Random Oversampling:\n",
      "\n",
      "Class Distribution (Before Balancing):\n",
      "isFraud\n",
      "No Fraud    14164\n",
      "Fraud          78\n",
      "Name: count, dtype: int64\n",
      "\n",
      "\n",
      "Class Distribution (After Balancing):\n",
      "Series([], Name: count, dtype: int64)\n",
      "\n",
      "\n",
      "Using SMOTE:\n",
      "\n",
      "Class Distribution (Before SMOTE):\n",
      "isFraud\n",
      "No Fraud    14164\n",
      "Fraud          78\n",
      "Name: count, dtype: int64\n",
      "\n",
      "Class Distribution (After SMOTE):\n",
      "isFraud\n",
      "No Fraud    14164\n",
      "Fraud       14164\n",
      "Name: count, dtype: int64\n"
     ]
    }
   ],
   "source": [
    "from sklearn.utils import resample\n",
    "from imblearn.over_sampling import SMOTE\n",
    "import pandas as pd\n",
    "\n",
    "def show_class_distribution(dataframe, target_column, label):\n",
    "    \"\"\"\n",
    "    Displays the class distribution.\n",
    "    \"\"\"\n",
    "    print(f\"\\nClass Distribution ({label}):\")\n",
    "    print(dataframe[target_column].value_counts())\n",
    "    print()\n",
    "\n",
    "def balance_data_random_oversampling(dataframe, target_column):\n",
    "    \"\"\"\n",
    "    Balances the dataset using random oversampling.\n",
    "    \"\"\"\n",
    "    # Separate majority and minority classes\n",
    "    majority_class = dataframe[dataframe[target_column] == 0]\n",
    "    minority_class = dataframe[dataframe[target_column] == 1]\n",
    "    \n",
    "    # Oversample the minority class\n",
    "    minority_oversampled = resample(\n",
    "        minority_class,\n",
    "        replace=True,                  # Sample with replacement\n",
    "        n_samples=len(majority_class), # Match the majority class count\n",
    "        random_state=42                # Ensure reproducibility\n",
    "    )\n",
    "    \n",
    "    # Combine majority class with oversampled minority class\n",
    "    balanced_dataframe = pd.concat([majority_class, minority_oversampled])\n",
    "    return balanced_dataframe\n",
    "\n",
    "# Display before and after balancing using random oversampling\n",
    "print(\"Using Random Oversampling:\")\n",
    "show_class_distribution(df, 'isFraud', \"Before Balancing\")\n",
    "balanced_df = balance_data_random_oversampling(df, 'isFraud')\n",
    "show_class_distribution(balanced_df, 'isFraud', \"After Balancing\")\n",
    "\n",
    "def balance_data_smote(features, target):\n",
    "    \"\"\"\n",
    "    Balances the dataset using SMOTE.\n",
    "    \"\"\"\n",
    "    smote = SMOTE(random_state=42)\n",
    "    X_resampled, y_resampled = smote.fit_resample(features, target)\n",
    "    return X_resampled, y_resampled\n",
    "\n",
    "# Example with SMOTE\n",
    "print(\"\\nUsing SMOTE:\")\n",
    "X = df.drop(columns=['isFraud'])\n",
    "y = df['isFraud']\n",
    "\n",
    "# Before SMOTE\n",
    "print(\"\\nClass Distribution (Before SMOTE):\")\n",
    "print(y.value_counts())\n",
    "\n",
    "# After SMOTE\n",
    "X_balanced, y_balanced = balance_data_smote(X, y)\n",
    "print(\"\\nClass Distribution (After SMOTE):\")\n",
    "print(pd.Series(y_balanced).value_counts())\n"
   ]
  },
  {
   "cell_type": "code",
   "execution_count": 10,
   "metadata": {
    "execution": {
     "iopub.execute_input": "2024-11-28T12:44:35.959587Z",
     "iopub.status.busy": "2024-11-28T12:44:35.958222Z",
     "iopub.status.idle": "2024-11-28T12:44:35.968398Z",
     "shell.execute_reply": "2024-11-28T12:44:35.967204Z",
     "shell.execute_reply.started": "2024-11-28T12:44:35.959530Z"
    },
    "trusted": true
   },
   "outputs": [
    {
     "name": "stdout",
     "output_type": "stream",
     "text": [
      "Balanced Class Distribution:\n",
      "isFraud\n",
      "No Fraud    14164\n",
      "Fraud       14164\n",
      "Name: count, dtype: int64\n"
     ]
    }
   ],
   "source": [
    "print(\"Balanced Class Distribution:\")\n",
    "print(pd.Series(y_balanced).value_counts())\n"
   ]
  },
  {
   "cell_type": "code",
   "execution_count": 11,
   "metadata": {
    "execution": {
     "iopub.execute_input": "2024-11-28T12:44:40.197263Z",
     "iopub.status.busy": "2024-11-28T12:44:40.196851Z",
     "iopub.status.idle": "2024-11-28T12:44:40.255725Z",
     "shell.execute_reply": "2024-11-28T12:44:40.254618Z",
     "shell.execute_reply.started": "2024-11-28T12:44:40.197227Z"
    },
    "trusted": true
   },
   "outputs": [
    {
     "name": "stdout",
     "output_type": "stream",
     "text": [
      "Final preprocessed dataset saved to:  Final_cleaned_preprocessed_dataset.csv\n"
     ]
    }
   ],
   "source": [
    "final_dataset_path = \"Final_cleaned_preprocessed_dataset.csv\"\n",
    "df.to_csv(final_dataset_path, index=False)\n",
    "print(\"Final preprocessed dataset saved to: \", final_dataset_path)"
   ]
  },
  {
   "cell_type": "code",
   "execution_count": 12,
   "metadata": {
    "execution": {
     "iopub.execute_input": "2024-11-28T12:44:44.772804Z",
     "iopub.status.busy": "2024-11-28T12:44:44.772409Z",
     "iopub.status.idle": "2024-11-28T12:44:44.802811Z",
     "shell.execute_reply": "2024-11-28T12:44:44.801810Z",
     "shell.execute_reply.started": "2024-11-28T12:44:44.772769Z"
    },
    "trusted": true
   },
   "outputs": [
    {
     "name": "stdout",
     "output_type": "stream",
     "text": [
      "Data loaded successfully.\n",
      "   type    amount  oldbalanceOrg  newbalanceOrig   isFraud\n",
      "0     3   9839.64       170136.0       160296.36  No Fraud\n",
      "1     3   1864.28        21249.0        19384.72  No Fraud\n",
      "2     4    181.00          181.0            0.00     Fraud\n",
      "3     1    181.00          181.0            0.00     Fraud\n",
      "4     3  11668.14        41554.0        29885.86  No Fraud\n"
     ]
    }
   ],
   "source": [
    "\n",
    "\n",
    "file_path = r\"/kaggle/input/final-preprocessed-dataseat/Final_cleaned_preprocessed_dataset.csv\"\n",
    "\n",
    "try:\n",
    "    data = pd.read_csv(file_path)\n",
    "    print(\"Data loaded successfully.\")\n",
    "    print(data.head())  # Display the first few rows of the dataset\n",
    "except FileNotFoundError:\n",
    "    print(\"File not found. Please check the file path.\")\n",
    "except Exception as e:\n",
    "    print(f\"An error occurred: {e}\")\n"
   ]
  },
  {
   "cell_type": "code",
   "execution_count": 14,
   "metadata": {
    "execution": {
     "iopub.execute_input": "2024-11-28T12:45:04.498800Z",
     "iopub.status.busy": "2024-11-28T12:45:04.498407Z",
     "iopub.status.idle": "2024-11-28T12:45:04.522335Z",
     "shell.execute_reply": "2024-11-28T12:45:04.521179Z",
     "shell.execute_reply.started": "2024-11-28T12:45:04.498758Z"
    },
    "trusted": true
   },
   "outputs": [
    {
     "name": "stdout",
     "output_type": "stream",
     "text": [
      "Available columns:\n",
      "Index(['type', 'amount', 'oldbalanceOrg', 'newbalanceOrig', 'isFraud'], dtype='object')\n",
      "\n",
      "First few rows of the data:\n",
      "   type    amount  oldbalanceOrg  newbalanceOrig   isFraud\n",
      "0     3   9839.64       170136.0       160296.36  No Fraud\n",
      "1     3   1864.28        21249.0        19384.72  No Fraud\n",
      "2     4    181.00          181.0            0.00     Fraud\n",
      "3     1    181.00          181.0            0.00     Fraud\n",
      "4     3  11668.14        41554.0        29885.86  No Fraud\n"
     ]
    }
   ],
   "source": [
    "import pandas as pd\n",
    "import numpy as np\n",
    "import matplotlib.pyplot as plt\n",
    "import seaborn as sns\n",
    "from scipy import stats\n",
    "from sklearn.model_selection import train_test_split\n",
    "from sklearn.preprocessing import StandardScaler\n",
    "from sklearn.metrics import (\n",
    "    classification_report,\n",
    "    confusion_matrix,\n",
    "    accuracy_score,\n",
    "    precision_score,\n",
    "    recall_score,\n",
    "    f1_score,\n",
    "    silhouette_score\n",
    ")\n",
    "from sklearn.ensemble import RandomForestClassifier\n",
    "from sklearn.linear_model import LogisticRegression\n",
    "from sklearn.svm import SVC\n",
    "from sklearn.tree import DecisionTreeClassifier\n",
    "from sklearn.neighbors import KNeighborsClassifier\n",
    "from sklearn.cluster import KMeans, DBSCAN\n",
    "from sklearn.decomposition import PCA\n",
    "from sklearn.covariance import EllipticEnvelope\n",
    "\n",
    "# Load your preprocessed data\n",
    "data = pd.read_csv('/kaggle/input/final-preprocessed-dataseat/Final_cleaned_preprocessed_dataset.csv')\n",
    "\n",
    "# Print the column names\n",
    "print(\"Available columns:\")\n",
    "print(data.columns)\n",
    "\n",
    "# Print the first few rows of the data\n",
    "print(\"\\nFirst few rows of the data:\")\n",
    "print(data.head())\n"
   ]
  },
  {
   "cell_type": "code",
   "execution_count": 15,
   "metadata": {
    "execution": {
     "iopub.execute_input": "2024-11-28T12:45:08.837999Z",
     "iopub.status.busy": "2024-11-28T12:45:08.837324Z",
     "iopub.status.idle": "2024-11-28T12:45:08.853638Z",
     "shell.execute_reply": "2024-11-28T12:45:08.852448Z",
     "shell.execute_reply.started": "2024-11-28T12:45:08.837962Z"
    },
    "trusted": true
   },
   "outputs": [],
   "source": [
    "# Select features and target variable\n",
    "X = data[['amount', 'oldbalanceOrg', 'newbalanceOrig']]\n",
    "y = data['isFraud']\n",
    "\n",
    "# Split the data\n",
    "X_train, X_test, y_train, y_test = train_test_split(X, y, test_size=0.2, random_state=42)\n",
    "\n",
    "# Scale the features\n",
    "scaler = StandardScaler()\n",
    "X_train_scaled = scaler.fit_transform(X_train)\n",
    "X_test_scaled = scaler.transform(X_test)\n"
   ]
  },
  {
   "cell_type": "code",
   "execution_count": 16,
   "metadata": {
    "execution": {
     "iopub.execute_input": "2024-11-28T12:45:14.553467Z",
     "iopub.status.busy": "2024-11-28T12:45:14.552975Z",
     "iopub.status.idle": "2024-11-28T12:45:14.581366Z",
     "shell.execute_reply": "2024-11-28T12:45:14.580042Z",
     "shell.execute_reply.started": "2024-11-28T12:45:14.553422Z"
    },
    "trusted": true
   },
   "outputs": [
    {
     "name": "stdout",
     "output_type": "stream",
     "text": [
      "Shapes:\n",
      "X_train_scaled: (11393, 3)\n",
      "X_test_scaled: (2849, 3)\n",
      "y_train: (11393,)\n",
      "y_test: (2849,)\n"
     ]
    }
   ],
   "source": [
    "import pandas as pd\n",
    "from sklearn.model_selection import train_test_split\n",
    "from sklearn.preprocessing import StandardScaler\n",
    "\n",
    "# Load your dataset\n",
    "# Assuming your data is in a DataFrame named 'data'\n",
    "\n",
    "# Convert categorical 'type' column into dummy variables\n",
    "data = pd.get_dummies(data, columns=['type'], prefix='type')\n",
    "\n",
    "# Define features and target variable\n",
    "X = data[['amount', 'oldbalanceOrg', 'newbalanceOrig']]\n",
    "y = data['isFraud'].map({'No Fraud': 0, 'Fraud': 1})  # Convert target to binary\n",
    "\n",
    "# Split the dataset into training and test sets\n",
    "X_train, X_test, y_train, y_test = train_test_split(X, y, test_size=0.2, random_state=42, stratify=y)\n",
    "\n",
    "# Scale the features using StandardScaler\n",
    "scaler = StandardScaler()\n",
    "X_train_scaled = scaler.fit_transform(X_train)\n",
    "X_test_scaled = scaler.transform(X_test)\n",
    "\n",
    "# Display the shapes of the scaled datasets\n",
    "print(\"Shapes:\")\n",
    "print(\"X_train_scaled:\", X_train_scaled.shape)\n",
    "print(\"X_test_scaled:\", X_test_scaled.shape)\n",
    "print(\"y_train:\", y_train.shape)\n",
    "print(\"y_test:\", y_test.shape)\n"
   ]
  },
  {
   "cell_type": "code",
   "execution_count": 18,
   "metadata": {
    "execution": {
     "iopub.execute_input": "2024-11-28T12:46:37.928463Z",
     "iopub.status.busy": "2024-11-28T12:46:37.928043Z",
     "iopub.status.idle": "2024-11-28T12:46:43.590678Z",
     "shell.execute_reply": "2024-11-28T12:46:43.589616Z",
     "shell.execute_reply.started": "2024-11-28T12:46:37.928429Z"
    },
    "trusted": true
   },
   "outputs": [
    {
     "name": "stderr",
     "output_type": "stream",
     "text": [
      "/opt/conda/lib/python3.10/site-packages/sklearn/metrics/_classification.py:1344: UndefinedMetricWarning: Precision is ill-defined and being set to 0.0 due to no predicted samples. Use `zero_division` parameter to control this behavior.\n",
      "  _warn_prf(average, modifier, msg_start, len(result))\n"
     ]
    },
    {
     "data": {
      "image/png": "[encoded data removed]",
      "text/plain": [
       "<Figure size 640x480 with 1 Axes>"
      ]
     },
     "metadata": {},
     "output_type": "display_data"
    },
    {
     "name": "stdout",
     "output_type": "stream",
     "text": [
      "\n",
      "Results:\n",
      "\n",
      "Random Forest:\n",
      "accuracy: 0.9982\n",
      "precision: 0.8235\n",
      "recall: 0.8750\n",
      "f1: 0.8485\n",
      "\n",
      "Logistic Regression:\n",
      "accuracy: 0.9951\n",
      "precision: 1.0000\n",
      "recall: 0.1250\n",
      "f1: 0.2222\n",
      "\n",
      "SVM:\n",
      "accuracy: 0.9944\n",
      "precision: 0.0000\n",
      "recall: 0.0000\n",
      "f1: 0.0000\n",
      "\n",
      "Decision Tree:\n",
      "accuracy: 0.9982\n",
      "precision: 0.8235\n",
      "recall: 0.8750\n",
      "f1: 0.8485\n",
      "\n",
      "KNN:\n",
      "accuracy: 0.9933\n",
      "precision: 0.3333\n",
      "recall: 0.1875\n",
      "f1: 0.2400\n",
      "\n",
      "K-Means:\n",
      "silhouette: 0.8034\n",
      "accuracy: 0.8917\n",
      "\n",
      "DBSCAN:\n",
      "silhouette: 0.0000\n",
      "\n",
      "PCA:\n",
      "explained_variance_ratio: 0.9990\n"
     ]
    }
   ],
   "source": [
    "# Dictionary to store results\n",
    "results = {}\n",
    "\n",
    "# Function to evaluate supervised models\n",
    "def evaluate_supervised_model(model, X_train, X_test, y_train, y_test):\n",
    "    model.fit(X_train, y_train)\n",
    "    y_pred = model.predict(X_test)\n",
    "\n",
    "    return {\n",
    "        'accuracy': accuracy_score(y_test, y_pred),\n",
    "        'precision': precision_score(y_test, y_pred),\n",
    "        'recall': recall_score(y_test, y_pred),\n",
    "        'f1': f1_score(y_test, y_pred)\n",
    "    }\n",
    "\n",
    "# Supervised Models\n",
    "supervised_models = {\n",
    "    'Random Forest': RandomForestClassifier(random_state=42),\n",
    "    'Logistic Regression': LogisticRegression(random_state=42),\n",
    "    'SVM': SVC(random_state=42),\n",
    "    'Decision Tree': DecisionTreeClassifier(random_state=42),\n",
    "    'KNN': KNeighborsClassifier()\n",
    "}\n",
    "\n",
    "# Evaluate supervised models\n",
    "for name, model in supervised_models.items():\n",
    "    results[name] = evaluate_supervised_model(model, X_train_scaled, X_test_scaled, y_train, y_test)\n",
    "\n",
    "# Unsupervised Models\n",
    "# K-Means\n",
    "kmeans = KMeans(n_clusters=2, random_state=42)\n",
    "kmeans_labels = kmeans.fit_predict(X_train_scaled)\n",
    "results['K-Means'] = {\n",
    "    'silhouette': silhouette_score(X_train_scaled, kmeans_labels),\n",
    "    'accuracy': accuracy_score(y_train, kmeans_labels)\n",
    "}\n",
    "\n",
    "# DBSCAN\n",
    "dbscan = DBSCAN(eps=0.5, min_samples=5)\n",
    "dbscan_labels = dbscan.fit_predict(X_train_scaled)\n",
    "valid_points = dbscan_labels != -1\n",
    "results['DBSCAN'] = {\n",
    "    'silhouette': silhouette_score(X_train_scaled[valid_points], dbscan_labels[valid_points])\n",
    "    if len(np.unique(dbscan_labels[valid_points])) > 1 else 0\n",
    "}\n",
    "\n",
    "# PCA\n",
    "pca = PCA(n_components=2)\n",
    "X_pca = pca.fit_transform(X_train_scaled)\n",
    "results['PCA'] = {\n",
    "    'explained_variance_ratio': sum(pca.explained_variance_ratio_)\n",
    "}\n",
    "\n",
    "\n",
    "# Supervised Models Comparison\n",
    "metrics = ['accuracy', 'precision', 'recall', 'f1']\n",
    "x = np.arange(len(supervised_models))\n",
    "width = 0.2\n",
    "\n",
    "for i, metric in enumerate(metrics):\n",
    "    values = [results[model][metric] for model in supervised_models]\n",
    "    plt.bar(x + i*width, values, width, label=metric)\n",
    "\n",
    "plt.xlabel('Models')\n",
    "plt.ylabel('Score')\n",
    "plt.title('Comparison of Supervised Models')\n",
    "plt.xticks(x + width*1.5, supervised_models.keys(), rotation=45)\n",
    "plt.legend()\n",
    "plt.tight_layout()\n",
    "plt.show()\n",
    "\n",
    "\n",
    "\n",
    "# Print  results\n",
    "print(\"\\nResults:\")\n",
    "for model, metrics in results.items():\n",
    "    print(f\"\\n{model}:\")\n",
    "    for metric, value in metrics.items():\n",
    "        print(f\"{metric}: {value:.4f}\")\n",
    "\n",
    "\n"
   ]
  },
  {
   "cell_type": "code",
   "execution_count": 22,
   "metadata": {
    "execution": {
     "iopub.execute_input": "2024-11-28T12:49:33.863344Z",
     "iopub.status.busy": "2024-11-28T12:49:33.862885Z",
     "iopub.status.idle": "2024-11-28T12:49:33.871949Z",
     "shell.execute_reply": "2024-11-28T12:49:33.870857Z",
     "shell.execute_reply.started": "2024-11-28T12:49:33.863300Z"
    },
    "trusted": true
   },
   "outputs": [],
   "source": [
    "from sklearn.model_selection import RandomizedSearchCV\n",
    "from scipy.stats import randint, uniform\n",
    "from sklearn.metrics import accuracy_score, precision_score, recall_score, f1_score, silhouette_score, confusion_matrix\n",
    "from joblib import Parallel, delayed\n",
    "import time\n",
    "     # Part 1: Setup and Utility Functions\n",
    "def evaluate_supervised_model(model, param_grid, X_train, X_test, y_train, y_test, cv=3, n_iter=10):\n",
    "    search = RandomizedSearchCV(model, param_grid, n_iter=n_iter, cv=cv, n_jobs=-1, scoring='f1', verbose=1)\n",
    "\n",
    "    search.fit(X_train, y_train)\n",
    "    best_model = search.best_estimator_\n",
    "    y_pred = best_model.predict(X_test)\n",
    "\n",
    "    return {\n",
    "        'best_params': search.best_params_,\n",
    "        'accuracy': accuracy_score(y_test, y_pred),\n",
    "        'precision': precision_score(y_test, y_pred, average='weighted'),\n",
    "        'recall': recall_score(y_test, y_pred, average='weighted'),\n",
    "        'f1': f1_score(y_test, y_pred, average='weighted')\n",
    "    }\n",
    "\n",
    "def evaluate_model(name, model, param_grid):\n",
    "    print(f\"Evaluating {name}...\")\n",
    "    return name, evaluate_supervised_model(model, param_grid, X_train_scaled, X_test_scaled, y_train, y_test)\n",
    "\n",
    "    "
   ]
  },
  {
   "cell_type": "code",
   "execution_count": 23,
   "metadata": {
    "execution": {
     "iopub.execute_input": "2024-11-28T12:49:40.269235Z",
     "iopub.status.busy": "2024-11-28T12:49:40.268861Z",
     "iopub.status.idle": "2024-11-28T12:49:40.282797Z",
     "shell.execute_reply": "2024-11-28T12:49:40.281802Z",
     "shell.execute_reply.started": "2024-11-28T12:49:40.269204Z"
    },
    "trusted": true
   },
   "outputs": [],
   "source": [
    "# Part 2: Supervised Models\n",
    "from sklearn.ensemble import RandomForestClassifier\n",
    "from sklearn.linear_model import LogisticRegression\n",
    "from sklearn.svm import SVC\n",
    "from sklearn.tree import DecisionTreeClassifier\n",
    "from sklearn.neighbors import KNeighborsClassifier\n",
    "\n",
    "supervised_models = {\n",
    "    'Random Forest': (RandomForestClassifier(random_state=42),\n",
    "                      {'n_estimators': randint(50, 300),\n",
    "                       'max_depth': [None, 10, 20, 30],\n",
    "                       'min_samples_split': randint(2, 11)}),\n",
    "    'Logistic Regression': (LogisticRegression(random_state=42, max_iter=1000),\n",
    "                            {'C': uniform(0.1, 10),\n",
    "                             'penalty': ['l1', 'l2']}),\n",
    "    'SVM': (SVC(random_state=42),\n",
    "            {'C': uniform(0.1, 10),\n",
    "             'kernel': ['rbf', 'linear']}),\n",
    "    'Decision Tree': (DecisionTreeClassifier(random_state=42),\n",
    "                      {'max_depth': [None, 10, 20, 30],\n",
    "                       'min_samples_split': randint(2, 11)}),\n",
    "    'KNN': (KNeighborsClassifier(),\n",
    "            {'n_neighbors': randint(3, 10),\n",
    "             'weights': ['uniform', 'distance']})\n",
    "}"
   ]
  },
  {
   "cell_type": "code",
   "execution_count": 24,
   "metadata": {
    "execution": {
     "iopub.execute_input": "2024-11-28T12:50:04.933452Z",
     "iopub.status.busy": "2024-11-28T12:50:04.933057Z",
     "iopub.status.idle": "2024-11-28T12:50:31.436195Z",
     "shell.execute_reply": "2024-11-28T12:50:31.434652Z",
     "shell.execute_reply.started": "2024-11-28T12:50:04.933420Z"
    },
    "trusted": true
   },
   "outputs": [
    {
     "name": "stderr",
     "output_type": "stream",
     "text": [
      "/opt/conda/lib/python3.10/site-packages/sklearn/model_selection/_validation.py:378: FitFailedWarning: \n",
      "15 fits failed out of a total of 30.\n",
      "The score on these train-test partitions for these parameters will be set to nan.\n",
      "If these failures are not expected, you can try to debug them by setting error_score='raise'.\n",
      "\n",
      "Below are more details about the failures:\n",
      "--------------------------------------------------------------------------------\n",
      "15 fits failed with the following error:\n",
      "Traceback (most recent call last):\n",
      "  File \"/opt/conda/lib/python3.10/site-packages/sklearn/model_selection/_validation.py\", line 686, in _fit_and_score\n",
      "    estimator.fit(X_train, y_train, **fit_params)\n",
      "  File \"/opt/conda/lib/python3.10/site-packages/sklearn/linear_model/_logistic.py\", line 1162, in fit\n",
      "    solver = _check_solver(self.solver, self.penalty, self.dual)\n",
      "  File \"/opt/conda/lib/python3.10/site-packages/sklearn/linear_model/_logistic.py\", line 54, in _check_solver\n",
      "    raise ValueError(\n",
      "ValueError: Solver lbfgs supports only 'l2' or 'none' penalties, got l1 penalty.\n",
      "\n",
      "  warnings.warn(some_fits_failed_message, FitFailedWarning)\n",
      "/opt/conda/lib/python3.10/site-packages/sklearn/model_selection/_search.py:952: UserWarning: One or more of the test scores are non-finite: [0.12002008        nan 0.12002008        nan 0.11760462 0.11760462\n",
      "        nan 0.12002008        nan        nan]\n",
      "  warnings.warn(\n",
      "/opt/conda/lib/python3.10/site-packages/sklearn/metrics/_classification.py:1344: UndefinedMetricWarning: Precision is ill-defined and being set to 0.0 in labels with no predicted samples. Use `zero_division` parameter to control this behavior.\n",
      "  _warn_prf(average, modifier, msg_start, len(result))\n"
     ]
    },
    {
     "name": "stdout",
     "output_type": "stream",
     "text": [
      "Supervised models evaluation completed in 26.50 seconds\n"
     ]
    }
   ],
   "source": [
    "# Part 3: Evaluate Supervised Models\n",
    "start_time = time.time()\n",
    "results = dict(Parallel(n_jobs=-1)(delayed(evaluate_model)(name, model, param_grid)\n",
    "                                   for name, (model, param_grid) in supervised_models.items()))\n",
    "print(f\"Supervised models evaluation completed in {time.time() - start_time:.2f} seconds\")\n"
   ]
  },
  {
   "cell_type": "code",
   "execution_count": 28,
   "metadata": {
    "execution": {
     "iopub.execute_input": "2024-11-28T12:51:28.172943Z",
     "iopub.status.busy": "2024-11-28T12:51:28.172520Z",
     "iopub.status.idle": "2024-11-28T12:51:28.190067Z",
     "shell.execute_reply": "2024-11-28T12:51:28.188765Z",
     "shell.execute_reply.started": "2024-11-28T12:51:28.172909Z"
    },
    "trusted": true
   },
   "outputs": [
    {
     "name": "stdout",
     "output_type": "stream",
     "text": [
      "\n",
      "Results:\n",
      "--------------------------------------------------\n",
      "\n",
      "Random Forest:\n",
      "Best Parameters: {'max_depth': None, 'min_samples_split': 5, 'n_estimators': 152}\n",
      "Accuracy: 0.9972\n",
      "Precision: 0.9972\n",
      "Recall: 0.9972\n",
      "F1 Score: 0.9972\n",
      "\n",
      "Logistic Regression:\n",
      "Best Parameters: {'C': 3.4767355097306685, 'penalty': 'l2'}\n",
      "Accuracy: 0.9951\n",
      "Precision: 0.9951\n",
      "Recall: 0.9951\n",
      "F1 Score: 0.9932\n",
      "\n",
      "SVM:\n",
      "Best Parameters: {'C': 5.061729823493584, 'kernel': 'rbf'}\n",
      "Accuracy: 0.9944\n",
      "Precision: 0.9888\n",
      "Recall: 0.9944\n",
      "F1 Score: 0.9916\n",
      "\n",
      "Decision Tree:\n",
      "Best Parameters: {'max_depth': 30, 'min_samples_split': 2}\n",
      "Accuracy: 0.9982\n",
      "Precision: 0.9983\n",
      "Recall: 0.9982\n",
      "F1 Score: 0.9983\n",
      "\n",
      "KNN:\n",
      "Best Parameters: {'n_neighbors': 5, 'weights': 'distance'}\n",
      "Accuracy: 0.9961\n",
      "Precision: 0.9965\n",
      "Recall: 0.9961\n",
      "F1 Score: 0.9963\n",
      "\n",
      "Performance Improvements:\n",
      "--------------------------------------------------\n",
      "\n",
      "Random Forest:\n",
      "accuracy: +0.0064 (+0.65%)\n",
      "precision: +0.0091 (+0.92%)\n",
      "recall: +0.0037 (+0.37%)\n",
      "f1: +0.0064 (+0.65%)\n",
      "\n",
      "Logistic Regression:\n",
      "accuracy: +0.0505 (+5.34%)\n",
      "precision: +0.0809 (+8.85%)\n",
      "recall: +0.0139 (+1.42%)\n",
      "f1: +0.0467 (+4.93%)\n",
      "\n",
      "SVM:\n",
      "accuracy: +0.0667 (+7.19%)\n",
      "precision: +0.1036 (+11.70%)\n",
      "recall: +0.0120 (+1.22%)\n",
      "f1: +0.0603 (+6.47%)\n",
      "\n",
      "Decision Tree:\n",
      "accuracy: +0.0085 (+0.86%)\n",
      "precision: +0.0119 (+1.21%)\n",
      "recall: +0.0052 (+0.53%)\n",
      "f1: +0.0086 (+0.87%)\n",
      "\n",
      "KNN:\n",
      "accuracy: +0.0066 (+0.67%)\n",
      "precision: +0.0118 (+1.20%)\n",
      "recall: +0.0016 (+0.16%)\n",
      "f1: +0.0067 (+0.68%)\n",
      "\n",
      "Best Performing Model: Decision Tree\n",
      "Best Parameters: {'max_depth': 30, 'min_samples_split': 2}\n",
      "F1 Score: 0.9983\n"
     ]
    }
   ],
   "source": [
    "# Store old results for comparison\n",
    "old_results = {\n",
    "    'Random Forest': {'accuracy': 0.9908, 'precision': 0.9881, 'recall': 0.9935, 'f1': 0.9908},\n",
    "    'Logistic Regression': {'accuracy': 0.9446, 'precision': 0.9142, 'recall': 0.9812, 'f1': 0.9465},\n",
    "    'SVM': {'accuracy': 0.9277, 'precision': 0.8852, 'recall': 0.9824, 'f1': 0.9313},\n",
    "    'Decision Tree': {'accuracy': 0.9897, 'precision': 0.9864, 'recall': 0.9930, 'f1': 0.9897},\n",
    "    'KNN': {'accuracy': 0.9895, 'precision': 0.9847, 'recall': 0.9945, 'f1': 0.9896}\n",
    "}\n",
    "\n",
    "# Print results\n",
    "print(\"\\nResults:\")\n",
    "print(\"-\" * 50)\n",
    "for model_name, model_results in results.items():\n",
    "    print(f\"\\n{model_name}:\")\n",
    "    print(f\"Best Parameters: {model_results['best_params']}\")\n",
    "    print(f\"Accuracy: {model_results['accuracy']:.4f}\")\n",
    "    if 'precision' in model_results:\n",
    "        print(f\"Precision: {model_results['precision']:.4f}\")\n",
    "        print(f\"Recall: {model_results['recall']:.4f}\")\n",
    "        print(f\"F1 Score: {model_results['f1']:.4f}\")\n",
    "\n",
    "\n",
    "# Calculate and display improvements (excluding K-Means)\n",
    "print(\"\\nPerformance Improvements:\")\n",
    "print(\"-\" * 50)\n",
    "for model in old_results.keys():\n",
    "    if model != 'K-Means':\n",
    "        print(f\"\\n{model}:\")\n",
    "        for metric in ['accuracy', 'precision', 'recall', 'f1']:\n",
    "            old_value = old_results[model][metric]\n",
    "            new_value = results[model][metric]\n",
    "            improvement = new_value - old_value\n",
    "            print(f\"{metric}: {improvement:+.4f} ({improvement/old_value*100:+.2f}%)\")\n",
    "\n",
    "\n",
    "\n",
    "# Find the best performing model (excluding K-Means)\n",
    "best_model = max((item for item in results.items() if item[0] != 'K-Means'), key=lambda x: x[1]['f1'])\n",
    "print(f\"\\nBest Performing Model: {best_model[0]}\")\n",
    "print(f\"Best Parameters: {best_model[1]['best_params']}\")\n",
    "print(f\"F1 Score: {best_model[1]['f1']:.4f}\")\n",
    "\n",
    "# Save the best model's parameters\n",
    "best_params = best_model[1]['best_params']\n",
    "best_model_name = best_model[0]\n",
    "\n",
    "# Optional: Create confusion matrices for each model (excluding K-Means)\n",
    "from sklearn.metrics import confusion_matrix\n",
    "import seaborn as sns\n",
    "\n",
    "def plot_confusion_matrices(results, X_test_scaled, y_test):\n",
    "    n_models = len([model for model in results if model != 'K-Means'])\n",
    "    n_cols = 3\n",
    "    n_rows = (n_models + n_cols - 1) // n_cols\n",
    "\n",
    "    fig, axes = plt.subplots(n_rows, n_cols, figsize=(15, 5*n_rows))\n",
    "    axes = axes.flatten()\n",
    "\n",
    "    idx = 0\n",
    "    for name, res in results.items():\n",
    "        if name != 'K-Means':\n",
    "            # Recreate the model with best parameters and fit it\n",
    "            model_class = type(supervised_models[name][0])\n",
    "            best_model = model_class(**res['best_params'])\n",
    "            best_model.fit(X_train_scaled, y_train)\n",
    "\n",
    "            y_pred = best_model.predict(X_test_scaled)\n",
    "            cm = confusion_matrix(y_test, y_pred)\n",
    "\n",
    "            sns.heatmap(cm, annot=True, fmt='d', ax=axes[idx])\n",
    "            axes[idx].set_title(f'{name} Confusion Matrix')\n",
    "            axes[idx].set_xlabel('Predicted')\n",
    "            axes[idx].set_ylabel('Actual')\n",
    "            idx += 1\n",
    "\n",
    "    # Remove empty subplots\n",
    "    for idx in range(n_models, len(axes)):\n",
    "        fig.delaxes(axes[idx])\n",
    "\n",
    "    plt.tight_layout()\n",
    "    plt.show()\n"
   ]
  },
  {
   "cell_type": "code",
   "execution_count": 53,
   "metadata": {
    "execution": {
     "iopub.execute_input": "2024-11-15T09:46:57.745247Z",
     "iopub.status.busy": "2024-11-15T09:46:57.744172Z",
     "iopub.status.idle": "2024-11-15T09:48:36.965079Z",
     "shell.execute_reply": "2024-11-15T09:48:36.963623Z",
     "shell.execute_reply.started": "2024-11-15T09:46:57.745195Z"
    },
    "trusted": true
   },
   "outputs": [
    {
     "name": "stdout",
     "output_type": "stream",
     "text": [
      "Requirement already satisfied: tensorflow in /opt/conda/lib/python3.10/site-packages (2.16.1)\n",
      "\u001b[33mWARNING: Retrying (Retry(total=4, connect=None, read=None, redirect=None, status=None)) after connection broken by 'NewConnectionError('<pip._vendor.urllib3.connection.HTTPSConnection object at 0x7d46c0555a20>: Failed to establish a new connection: [Errno -3] Temporary failure in name resolution')': /simple/tensorflow/\u001b[0m\u001b[33m\n",
      "\u001b[0m\u001b[33mWARNING: Retrying (Retry(total=3, connect=None, read=None, redirect=None, status=None)) after connection broken by 'NewConnectionError('<pip._vendor.urllib3.connection.HTTPSConnection object at 0x7d46c0555d20>: Failed to establish a new connection: [Errno -3] Temporary failure in name resolution')': /simple/tensorflow/\u001b[0m\u001b[33m\n",
      "\u001b[0m\u001b[33mWARNING: Retrying (Retry(total=2, connect=None, read=None, redirect=None, status=None)) after connection broken by 'NewConnectionError('<pip._vendor.urllib3.connection.HTTPSConnection object at 0x7d46c0555ed0>: Failed to establish a new connection: [Errno -3] Temporary failure in name resolution')': /simple/tensorflow/\u001b[0m\u001b[33m\n",
      "\u001b[0m\u001b[33mWARNING: Retrying (Retry(total=1, connect=None, read=None, redirect=None, status=None)) after connection broken by 'NewConnectionError('<pip._vendor.urllib3.connection.HTTPSConnection object at 0x7d46c0556080>: Failed to establish a new connection: [Errno -3] Temporary failure in name resolution')': /simple/tensorflow/\u001b[0m\u001b[33m\n",
      "\u001b[0m^C\n"
     ]
    }
   ],
   "source": [
    "!pip install --upgrade tensorflow"
   ]
  },
  {
   "cell_type": "code",
   "execution_count": 29,
   "metadata": {
    "execution": {
     "iopub.execute_input": "2024-11-28T12:51:40.208147Z",
     "iopub.status.busy": "2024-11-28T12:51:40.207743Z",
     "iopub.status.idle": "2024-11-28T12:51:53.850171Z",
     "shell.execute_reply": "2024-11-28T12:51:53.849144Z",
     "shell.execute_reply.started": "2024-11-28T12:51:40.208116Z"
    },
    "trusted": true
   },
   "outputs": [],
   "source": [
    "import tensorflow as tf\n",
    "from tensorflow.keras.models import Sequential\n",
    "from tensorflow.keras.layers import Dense, Dropout, BatchNormalization\n",
    "from tensorflow.keras.optimizers import Adam\n",
    "from tensorflow.keras.callbacks import EarlyStopping, ReduceLROnPlateau\n",
    "\n",
    "def create_model(input_shape):\n",
    "    model = Sequential([\n",
    "        Dense(128, activation='relu', input_shape=(input_shape,)),\n",
    "        BatchNormalization(),\n",
    "        Dropout(0.3),\n",
    "        Dense(64, activation='relu'),\n",
    "        BatchNormalization(),\n",
    "        Dropout(0.2),\n",
    "        Dense(32, activation='relu'),\n",
    "        BatchNormalization(),\n",
    "        Dropout(0.1),\n",
    "        Dense(16, activation='relu'),\n",
    "        Dense(1, activation='sigmoid')\n",
    "    ])\n",
    "    return model"
   ]
  },
  {
   "cell_type": "code",
   "execution_count": 30,
   "metadata": {
    "execution": {
     "iopub.execute_input": "2024-11-28T12:51:58.128382Z",
     "iopub.status.busy": "2024-11-28T12:51:58.127398Z",
     "iopub.status.idle": "2024-11-28T12:51:58.323963Z",
     "shell.execute_reply": "2024-11-28T12:51:58.322782Z",
     "shell.execute_reply.started": "2024-11-28T12:51:58.128336Z"
    },
    "trusted": true
   },
   "outputs": [
    {
     "name": "stderr",
     "output_type": "stream",
     "text": [
      "/opt/conda/lib/python3.10/site-packages/keras/src/layers/core/dense.py:87: UserWarning: Do not pass an `input_shape`/`input_dim` argument to a layer. When using Sequential models, prefer using an `Input(shape)` object as the first layer in the model instead.\n",
      "  super().__init__(activity_regularizer=activity_regularizer, **kwargs)\n"
     ]
    },
    {
     "data": {
      "text/html": [
       "<pre style=\"white-space:pre;overflow-x:auto;line-height:normal;font-family:Menlo,'DejaVu Sans Mono',consolas,'Courier New',monospace\"><span style=\"font-weight: bold\">Model: \"sequential\"</span>\n",
       "</pre>\n"
      ],
      "text/plain": [
       "\u001b[1mModel: \"sequential\"\u001b[0m\n"
      ]
     },
     "metadata": {},
     "output_type": "display_data"
    },
    {
     "data": {
      "text/html": [
       "<pre style=\"white-space:pre;overflow-x:auto;line-height:normal;font-family:Menlo,'DejaVu Sans Mono',consolas,'Courier New',monospace\">┏━━━━━━━━━━━━━━━━━━━━━━━━━━━━━━━━━┳━━━━━━━━━━━━━━━━━━━━━━━━┳━━━━━━━━━━━━━━━┓\n",
       "┃<span style=\"font-weight: bold\"> Layer (type)                    </span>┃<span style=\"font-weight: bold\"> Output Shape           </span>┃<span style=\"font-weight: bold\">       Param # </span>┃\n",
       "┡━━━━━━━━━━━━━━━━━━━━━━━━━━━━━━━━━╇━━━━━━━━━━━━━━━━━━━━━━━━╇━━━━━━━━━━━━━━━┩\n",
       "│ dense (<span style=\"color: #0087ff; text-decoration-color: #0087ff\">Dense</span>)                   │ (<span style=\"color: #00d7ff; text-decoration-color: #00d7ff\">None</span>, <span style=\"color: #00af00; text-decoration-color: #00af00\">128</span>)            │           <span style=\"color: #00af00; text-decoration-color: #00af00\">512</span> │\n",
       "├─────────────────────────────────┼────────────────────────┼───────────────┤\n",
       "│ batch_normalization             │ (<span style=\"color: #00d7ff; text-decoration-color: #00d7ff\">None</span>, <span style=\"color: #00af00; text-decoration-color: #00af00\">128</span>)            │           <span style=\"color: #00af00; text-decoration-color: #00af00\">512</span> │\n",
       "│ (<span style=\"color: #0087ff; text-decoration-color: #0087ff\">BatchNormalization</span>)            │                        │               │\n",
       "├─────────────────────────────────┼────────────────────────┼───────────────┤\n",
       "│ dropout (<span style=\"color: #0087ff; text-decoration-color: #0087ff\">Dropout</span>)               │ (<span style=\"color: #00d7ff; text-decoration-color: #00d7ff\">None</span>, <span style=\"color: #00af00; text-decoration-color: #00af00\">128</span>)            │             <span style=\"color: #00af00; text-decoration-color: #00af00\">0</span> │\n",
       "├─────────────────────────────────┼────────────────────────┼───────────────┤\n",
       "│ dense_1 (<span style=\"color: #0087ff; text-decoration-color: #0087ff\">Dense</span>)                 │ (<span style=\"color: #00d7ff; text-decoration-color: #00d7ff\">None</span>, <span style=\"color: #00af00; text-decoration-color: #00af00\">64</span>)             │         <span style=\"color: #00af00; text-decoration-color: #00af00\">8,256</span> │\n",
       "├─────────────────────────────────┼────────────────────────┼───────────────┤\n",
       "│ batch_normalization_1           │ (<span style=\"color: #00d7ff; text-decoration-color: #00d7ff\">None</span>, <span style=\"color: #00af00; text-decoration-color: #00af00\">64</span>)             │           <span style=\"color: #00af00; text-decoration-color: #00af00\">256</span> │\n",
       "│ (<span style=\"color: #0087ff; text-decoration-color: #0087ff\">BatchNormalization</span>)            │                        │               │\n",
       "├─────────────────────────────────┼────────────────────────┼───────────────┤\n",
       "│ dropout_1 (<span style=\"color: #0087ff; text-decoration-color: #0087ff\">Dropout</span>)             │ (<span style=\"color: #00d7ff; text-decoration-color: #00d7ff\">None</span>, <span style=\"color: #00af00; text-decoration-color: #00af00\">64</span>)             │             <span style=\"color: #00af00; text-decoration-color: #00af00\">0</span> │\n",
       "├─────────────────────────────────┼────────────────────────┼───────────────┤\n",
       "│ dense_2 (<span style=\"color: #0087ff; text-decoration-color: #0087ff\">Dense</span>)                 │ (<span style=\"color: #00d7ff; text-decoration-color: #00d7ff\">None</span>, <span style=\"color: #00af00; text-decoration-color: #00af00\">32</span>)             │         <span style=\"color: #00af00; text-decoration-color: #00af00\">2,080</span> │\n",
       "├─────────────────────────────────┼────────────────────────┼───────────────┤\n",
       "│ batch_normalization_2           │ (<span style=\"color: #00d7ff; text-decoration-color: #00d7ff\">None</span>, <span style=\"color: #00af00; text-decoration-color: #00af00\">32</span>)             │           <span style=\"color: #00af00; text-decoration-color: #00af00\">128</span> │\n",
       "│ (<span style=\"color: #0087ff; text-decoration-color: #0087ff\">BatchNormalization</span>)            │                        │               │\n",
       "├─────────────────────────────────┼────────────────────────┼───────────────┤\n",
       "│ dropout_2 (<span style=\"color: #0087ff; text-decoration-color: #0087ff\">Dropout</span>)             │ (<span style=\"color: #00d7ff; text-decoration-color: #00d7ff\">None</span>, <span style=\"color: #00af00; text-decoration-color: #00af00\">32</span>)             │             <span style=\"color: #00af00; text-decoration-color: #00af00\">0</span> │\n",
       "├─────────────────────────────────┼────────────────────────┼───────────────┤\n",
       "│ dense_3 (<span style=\"color: #0087ff; text-decoration-color: #0087ff\">Dense</span>)                 │ (<span style=\"color: #00d7ff; text-decoration-color: #00d7ff\">None</span>, <span style=\"color: #00af00; text-decoration-color: #00af00\">16</span>)             │           <span style=\"color: #00af00; text-decoration-color: #00af00\">528</span> │\n",
       "├─────────────────────────────────┼────────────────────────┼───────────────┤\n",
       "│ dense_4 (<span style=\"color: #0087ff; text-decoration-color: #0087ff\">Dense</span>)                 │ (<span style=\"color: #00d7ff; text-decoration-color: #00d7ff\">None</span>, <span style=\"color: #00af00; text-decoration-color: #00af00\">1</span>)              │            <span style=\"color: #00af00; text-decoration-color: #00af00\">17</span> │\n",
       "└─────────────────────────────────┴────────────────────────┴───────────────┘\n",
       "</pre>\n"
      ],
      "text/plain": [
       "┏━━━━━━━━━━━━━━━━━━━━━━━━━━━━━━━━━┳━━━━━━━━━━━━━━━━━━━━━━━━┳━━━━━━━━━━━━━━━┓\n",
       "┃\u001b[1m \u001b[0m\u001b[1mLayer (type)                   \u001b[0m\u001b[1m \u001b[0m┃\u001b[1m \u001b[0m\u001b[1mOutput Shape          \u001b[0m\u001b[1m \u001b[0m┃\u001b[1m \u001b[0m\u001b[1m      Param #\u001b[0m\u001b[1m \u001b[0m┃\n",
       "┡━━━━━━━━━━━━━━━━━━━━━━━━━━━━━━━━━╇━━━━━━━━━━━━━━━━━━━━━━━━╇━━━━━━━━━━━━━━━┩\n",
       "│ dense (\u001b[38;5;33mDense\u001b[0m)                   │ (\u001b[38;5;45mNone\u001b[0m, \u001b[38;5;34m128\u001b[0m)            │           \u001b[38;5;34m512\u001b[0m │\n",
       "├─────────────────────────────────┼────────────────────────┼───────────────┤\n",
       "│ batch_normalization             │ (\u001b[38;5;45mNone\u001b[0m, \u001b[38;5;34m128\u001b[0m)            │           \u001b[38;5;34m512\u001b[0m │\n",
       "│ (\u001b[38;5;33mBatchNormalization\u001b[0m)            │                        │               │\n",
       "├─────────────────────────────────┼────────────────────────┼───────────────┤\n",
       "│ dropout (\u001b[38;5;33mDropout\u001b[0m)               │ (\u001b[38;5;45mNone\u001b[0m, \u001b[38;5;34m128\u001b[0m)            │             \u001b[38;5;34m0\u001b[0m │\n",
       "├─────────────────────────────────┼────────────────────────┼───────────────┤\n",
       "│ dense_1 (\u001b[38;5;33mDense\u001b[0m)                 │ (\u001b[38;5;45mNone\u001b[0m, \u001b[38;5;34m64\u001b[0m)             │         \u001b[38;5;34m8,256\u001b[0m │\n",
       "├─────────────────────────────────┼────────────────────────┼───────────────┤\n",
       "│ batch_normalization_1           │ (\u001b[38;5;45mNone\u001b[0m, \u001b[38;5;34m64\u001b[0m)             │           \u001b[38;5;34m256\u001b[0m │\n",
       "│ (\u001b[38;5;33mBatchNormalization\u001b[0m)            │                        │               │\n",
       "├─────────────────────────────────┼────────────────────────┼───────────────┤\n",
       "│ dropout_1 (\u001b[38;5;33mDropout\u001b[0m)             │ (\u001b[38;5;45mNone\u001b[0m, \u001b[38;5;34m64\u001b[0m)             │             \u001b[38;5;34m0\u001b[0m │\n",
       "├─────────────────────────────────┼────────────────────────┼───────────────┤\n",
       "│ dense_2 (\u001b[38;5;33mDense\u001b[0m)                 │ (\u001b[38;5;45mNone\u001b[0m, \u001b[38;5;34m32\u001b[0m)             │         \u001b[38;5;34m2,080\u001b[0m │\n",
       "├─────────────────────────────────┼────────────────────────┼───────────────┤\n",
       "│ batch_normalization_2           │ (\u001b[38;5;45mNone\u001b[0m, \u001b[38;5;34m32\u001b[0m)             │           \u001b[38;5;34m128\u001b[0m │\n",
       "│ (\u001b[38;5;33mBatchNormalization\u001b[0m)            │                        │               │\n",
       "├─────────────────────────────────┼────────────────────────┼───────────────┤\n",
       "│ dropout_2 (\u001b[38;5;33mDropout\u001b[0m)             │ (\u001b[38;5;45mNone\u001b[0m, \u001b[38;5;34m32\u001b[0m)             │             \u001b[38;5;34m0\u001b[0m │\n",
       "├─────────────────────────────────┼────────────────────────┼───────────────┤\n",
       "│ dense_3 (\u001b[38;5;33mDense\u001b[0m)                 │ (\u001b[38;5;45mNone\u001b[0m, \u001b[38;5;34m16\u001b[0m)             │           \u001b[38;5;34m528\u001b[0m │\n",
       "├─────────────────────────────────┼────────────────────────┼───────────────┤\n",
       "│ dense_4 (\u001b[38;5;33mDense\u001b[0m)                 │ (\u001b[38;5;45mNone\u001b[0m, \u001b[38;5;34m1\u001b[0m)              │            \u001b[38;5;34m17\u001b[0m │\n",
       "└─────────────────────────────────┴────────────────────────┴───────────────┘\n"
      ]
     },
     "metadata": {},
     "output_type": "display_data"
    },
    {
     "data": {
      "text/html": [
       "<pre style=\"white-space:pre;overflow-x:auto;line-height:normal;font-family:Menlo,'DejaVu Sans Mono',consolas,'Courier New',monospace\"><span style=\"font-weight: bold\"> Total params: </span><span style=\"color: #00af00; text-decoration-color: #00af00\">12,289</span> (48.00 KB)\n",
       "</pre>\n"
      ],
      "text/plain": [
       "\u001b[1m Total params: \u001b[0m\u001b[38;5;34m12,289\u001b[0m (48.00 KB)\n"
      ]
     },
     "metadata": {},
     "output_type": "display_data"
    },
    {
     "data": {
      "text/html": [
       "<pre style=\"white-space:pre;overflow-x:auto;line-height:normal;font-family:Menlo,'DejaVu Sans Mono',consolas,'Courier New',monospace\"><span style=\"font-weight: bold\"> Trainable params: </span><span style=\"color: #00af00; text-decoration-color: #00af00\">11,841</span> (46.25 KB)\n",
       "</pre>\n"
      ],
      "text/plain": [
       "\u001b[1m Trainable params: \u001b[0m\u001b[38;5;34m11,841\u001b[0m (46.25 KB)\n"
      ]
     },
     "metadata": {},
     "output_type": "display_data"
    },
    {
     "data": {
      "text/html": [
       "<pre style=\"white-space:pre;overflow-x:auto;line-height:normal;font-family:Menlo,'DejaVu Sans Mono',consolas,'Courier New',monospace\"><span style=\"font-weight: bold\"> Non-trainable params: </span><span style=\"color: #00af00; text-decoration-color: #00af00\">448</span> (1.75 KB)\n",
       "</pre>\n"
      ],
      "text/plain": [
       "\u001b[1m Non-trainable params: \u001b[0m\u001b[38;5;34m448\u001b[0m (1.75 KB)\n"
      ]
     },
     "metadata": {},
     "output_type": "display_data"
    }
   ],
   "source": [
    "# Get the number of features\n",
    "n_features = X_train_scaled.shape[1]\n",
    "\n",
    "# Create the model\n",
    "model = create_model(n_features)\n",
    "\n",
    "# Compile the model\n",
    "model.compile(optimizer=Adam(learning_rate=0.001),\n",
    "              loss='binary_crossentropy',\n",
    "              metrics=['accuracy', tf.keras.metrics.Precision(), tf.keras.metrics.Recall()])\n",
    "\n",
    "# Print model summary\n",
    "model.summary()"
   ]
  },
  {
   "cell_type": "markdown",
   "metadata": {},
   "source": []
  },
  {
   "cell_type": "code",
   "execution_count": 33,
   "metadata": {
    "execution": {
     "iopub.execute_input": "2024-11-28T12:56:27.273303Z",
     "iopub.status.busy": "2024-11-28T12:56:27.272501Z",
     "iopub.status.idle": "2024-11-28T12:56:41.313524Z",
     "shell.execute_reply": "2024-11-28T12:56:41.312423Z",
     "shell.execute_reply.started": "2024-11-28T12:56:27.273263Z"
    },
    "trusted": true
   },
   "outputs": [
    {
     "name": "stdout",
     "output_type": "stream",
     "text": [
      "Epoch 1/15\n",
      "\u001b[1m285/285\u001b[0m \u001b[32m━━━━━━━━━━━━━━━━━━━━\u001b[0m\u001b[37m\u001b[0m \u001b[1m1s\u001b[0m 3ms/step - accuracy: 0.9956 - loss: 0.0257 - precision: 0.5288 - recall: 0.0633 - val_accuracy: 0.9930 - val_loss: 0.0343 - val_precision: 0.6667 - val_recall: 0.1176 - learning_rate: 0.0010\n",
      "Epoch 2/15\n",
      "\u001b[1m285/285\u001b[0m \u001b[32m━━━━━━━━━━━━━━━━━━━━\u001b[0m\u001b[37m\u001b[0m \u001b[1m1s\u001b[0m 3ms/step - accuracy: 0.9945 - loss: 0.0284 - precision: 0.3659 - recall: 0.0472 - val_accuracy: 0.9930 - val_loss: 0.0291 - val_precision: 0.6667 - val_recall: 0.1176 - learning_rate: 0.0010\n",
      "Epoch 3/15\n",
      "\u001b[1m285/285\u001b[0m \u001b[32m━━━━━━━━━━━━━━━━━━━━\u001b[0m\u001b[37m\u001b[0m \u001b[1m1s\u001b[0m 3ms/step - accuracy: 0.9955 - loss: 0.0272 - precision: 0.6907 - recall: 0.1963 - val_accuracy: 0.9930 - val_loss: 0.0313 - val_precision: 0.6667 - val_recall: 0.1176 - learning_rate: 0.0010\n",
      "Epoch 4/15\n",
      "\u001b[1m285/285\u001b[0m \u001b[32m━━━━━━━━━━━━━━━━━━━━\u001b[0m\u001b[37m\u001b[0m \u001b[1m1s\u001b[0m 3ms/step - accuracy: 0.9958 - loss: 0.0207 - precision: 0.5292 - recall: 0.0662 - val_accuracy: 0.9930 - val_loss: 0.0342 - val_precision: 0.6667 - val_recall: 0.1176 - learning_rate: 0.0010\n",
      "Epoch 5/15\n",
      "\u001b[1m285/285\u001b[0m \u001b[32m━━━━━━━━━━━━━━━━━━━━\u001b[0m\u001b[37m\u001b[0m \u001b[1m1s\u001b[0m 3ms/step - accuracy: 0.9952 - loss: 0.0287 - precision: 0.8217 - recall: 0.0988 - val_accuracy: 0.9934 - val_loss: 0.0279 - val_precision: 1.0000 - val_recall: 0.1176 - learning_rate: 0.0010\n",
      "Epoch 6/15\n",
      "\u001b[1m285/285\u001b[0m \u001b[32m━━━━━━━━━━━━━━━━━━━━\u001b[0m\u001b[37m\u001b[0m \u001b[1m1s\u001b[0m 3ms/step - accuracy: 0.9956 - loss: 0.0233 - precision: 0.5021 - recall: 0.0613 - val_accuracy: 0.9930 - val_loss: 0.0289 - val_precision: 0.6667 - val_recall: 0.1176 - learning_rate: 0.0010\n",
      "Epoch 7/15\n",
      "\u001b[1m285/285\u001b[0m \u001b[32m━━━━━━━━━━━━━━━━━━━━\u001b[0m\u001b[37m\u001b[0m \u001b[1m1s\u001b[0m 3ms/step - accuracy: 0.9954 - loss: 0.0212 - precision: 0.5973 - recall: 0.1647 - val_accuracy: 0.9930 - val_loss: 0.0267 - val_precision: 0.6667 - val_recall: 0.1176 - learning_rate: 0.0010\n",
      "Epoch 8/15\n",
      "\u001b[1m285/285\u001b[0m \u001b[32m━━━━━━━━━━━━━━━━━━━━\u001b[0m\u001b[37m\u001b[0m \u001b[1m1s\u001b[0m 3ms/step - accuracy: 0.9951 - loss: 0.0232 - precision: 0.8112 - recall: 0.0708 - val_accuracy: 0.9930 - val_loss: 0.0322 - val_precision: 0.6667 - val_recall: 0.1176 - learning_rate: 0.0010\n",
      "Epoch 9/15\n",
      "\u001b[1m285/285\u001b[0m \u001b[32m━━━━━━━━━━━━━━━━━━━━\u001b[0m\u001b[37m\u001b[0m \u001b[1m1s\u001b[0m 3ms/step - accuracy: 0.9950 - loss: 0.0219 - precision: 0.5931 - recall: 0.1303 - val_accuracy: 0.9930 - val_loss: 0.0294 - val_precision: 0.6667 - val_recall: 0.1176 - learning_rate: 0.0010\n",
      "Epoch 10/15\n",
      "\u001b[1m285/285\u001b[0m \u001b[32m━━━━━━━━━━━━━━━━━━━━\u001b[0m\u001b[37m\u001b[0m \u001b[1m1s\u001b[0m 3ms/step - accuracy: 0.9951 - loss: 0.0244 - precision: 0.3214 - recall: 0.0569 - val_accuracy: 0.9934 - val_loss: 0.0281 - val_precision: 1.0000 - val_recall: 0.1176 - learning_rate: 0.0010\n",
      "Epoch 11/15\n",
      "\u001b[1m285/285\u001b[0m \u001b[32m━━━━━━━━━━━━━━━━━━━━\u001b[0m\u001b[37m\u001b[0m \u001b[1m1s\u001b[0m 3ms/step - accuracy: 0.9955 - loss: 0.0205 - precision: 0.6323 - recall: 0.1283 - val_accuracy: 0.9934 - val_loss: 0.0426 - val_precision: 1.0000 - val_recall: 0.1176 - learning_rate: 0.0010\n",
      "Epoch 12/15\n",
      "\u001b[1m285/285\u001b[0m \u001b[32m━━━━━━━━━━━━━━━━━━━━\u001b[0m\u001b[37m\u001b[0m \u001b[1m1s\u001b[0m 3ms/step - accuracy: 0.9957 - loss: 0.0223 - precision: 0.4721 - recall: 0.0719 - val_accuracy: 0.9930 - val_loss: 0.0259 - val_precision: 0.6667 - val_recall: 0.1176 - learning_rate: 0.0010\n",
      "Epoch 13/15\n",
      "\u001b[1m285/285\u001b[0m \u001b[32m━━━━━━━━━━━━━━━━━━━━\u001b[0m\u001b[37m\u001b[0m \u001b[1m1s\u001b[0m 3ms/step - accuracy: 0.9956 - loss: 0.0218 - precision: 0.4832 - recall: 0.0758 - val_accuracy: 0.9934 - val_loss: 0.0287 - val_precision: 1.0000 - val_recall: 0.1176 - learning_rate: 0.0010\n",
      "Epoch 14/15\n",
      "\u001b[1m285/285\u001b[0m \u001b[32m━━━━━━━━━━━━━━━━━━━━\u001b[0m\u001b[37m\u001b[0m \u001b[1m1s\u001b[0m 3ms/step - accuracy: 0.9953 - loss: 0.0211 - precision: 0.3522 - recall: 0.0560 - val_accuracy: 0.9930 - val_loss: 0.0281 - val_precision: 0.6667 - val_recall: 0.1176 - learning_rate: 0.0010\n",
      "Epoch 15/15\n",
      "\u001b[1m285/285\u001b[0m \u001b[32m━━━━━━━━━━━━━━━━━━━━\u001b[0m\u001b[37m\u001b[0m \u001b[1m1s\u001b[0m 3ms/step - accuracy: 0.9960 - loss: 0.0197 - precision: 0.8932 - recall: 0.1606 - val_accuracy: 0.9930 - val_loss: 0.0261 - val_precision: 0.6667 - val_recall: 0.1176 - learning_rate: 0.0010\n",
      "\u001b[1m90/90\u001b[0m \u001b[32m━━━━━━━━━━━━━━━━━━━━\u001b[0m\u001b[37m\u001b[0m \u001b[1m0s\u001b[0m 1ms/step - accuracy: 0.9944 - loss: 0.0293 - precision: 0.2967 - recall: 0.0359       \n",
      "Test accuracy: 0.9951\n",
      "Test precision: 1.0000\n",
      "Test recall: 0.1250\n",
      "Test F1 score: 0.2222\n"
     ]
    },
    {
     "data": {
      "text/plain": [
       "<Figure size 1500x500 with 0 Axes>"
      ]
     },
     "execution_count": 33,
     "metadata": {},
     "output_type": "execute_result"
    },
    {
     "data": {
      "text/plain": [
       "<Figure size 1500x500 with 0 Axes>"
      ]
     },
     "metadata": {},
     "output_type": "display_data"
    }
   ],
   "source": [
    "# Set up callbacks\n",
    "early_stopping = EarlyStopping(monitor='val_loss', patience=10, restore_best_weights=True)\n",
    "reduce_lr = ReduceLROnPlateau(monitor='val_loss', factor=0.2, patience=5, min_lr=0.00001)\n",
    "\n",
    "# Train the model\n",
    "history = model.fit(X_train_scaled, y_train,\n",
    "                    epochs=15,\n",
    "                    batch_size=32,\n",
    "                    validation_split=0.2,\n",
    "                    callbacks=[early_stopping, reduce_lr],\n",
    "                    verbose=1)\n",
    "\n",
    "# Evaluate the model on the test set\n",
    "test_loss, test_accuracy, test_precision, test_recall = model.evaluate(X_test_scaled, y_test)\n",
    "print(f\"Test accuracy: {test_accuracy:.4f}\")\n",
    "print(f\"Test precision: {test_precision:.4f}\")\n",
    "print(f\"Test recall: {test_recall:.4f}\")\n",
    "\n",
    "# Calculate F1 score\n",
    "test_f1 = 2 * (test_precision * test_recall) / (test_precision + test_recall)\n",
    "print(f\"Test F1 score: {test_f1:.4f}\")\n",
    "plt.figure(figsize=(15, 5))\n",
    "\n"
   ]
  },
  {
   "cell_type": "markdown",
   "metadata": {},
   "source": [
    "Make Predictions and Evaluate Performance:"
   ]
  },
  {
   "cell_type": "code",
   "execution_count": 66,
   "metadata": {
    "execution": {
     "iopub.execute_input": "2024-11-15T10:10:36.989189Z",
     "iopub.status.busy": "2024-11-15T10:10:36.988714Z",
     "iopub.status.idle": "2024-11-15T10:10:37.490326Z",
     "shell.execute_reply": "2024-11-15T10:10:37.488861Z",
     "shell.execute_reply.started": "2024-11-15T10:10:36.989143Z"
    },
    "trusted": true
   },
   "outputs": [
    {
     "name": "stdout",
     "output_type": "stream",
     "text": [
      "\u001b[1m90/90\u001b[0m \u001b[32m━━━━━━━━━━━━━━━━━━━━\u001b[0m\u001b[37m\u001b[0m \u001b[1m0s\u001b[0m 1ms/step\n",
      "              precision    recall  f1-score   support\n",
      "\n",
      "           0       1.00      1.00      1.00      2833\n",
      "           1       1.00      0.12      0.22        16\n",
      "\n",
      "    accuracy                           1.00      2849\n",
      "   macro avg       1.00      0.56      0.61      2849\n",
      "weighted avg       1.00      1.00      0.99      2849\n",
      "\n"
     ]
    },
    {
     "data": {
      "image/png": "[encoded data removed]",
      "text/plain": [
       "<Figure size 800x600 with 2 Axes>"
      ]
     },
     "metadata": {},
     "output_type": "display_data"
    }
   ],
   "source": [
    "from sklearn.metrics import classification_report, confusion_matrix\n",
    "import seaborn as sns\n",
    "\n",
    "# Make predictions\n",
    "y_pred = (model.predict(X_test_scaled) > 0.5).astype(\"int32\")\n",
    "\n",
    "# Print classification report\n",
    "print(classification_report(y_test, y_pred))\n",
    "\n",
    "# Plot confusion matrix\n",
    "cm = confusion_matrix(y_test, y_pred)\n",
    "plt.figure(figsize=(8, 6))\n",
    "sns.heatmap(cm, annot=True, fmt='d', cmap='Blues')\n",
    "plt.title('Confusion Matrix')\n",
    "plt.xlabel('Predicted')\n",
    "plt.ylabel('Actual')\n",
    "plt.show()"
   ]
  },
  {
   "cell_type": "code",
   "execution_count": 68,
   "metadata": {
    "execution": {
     "iopub.execute_input": "2024-11-15T10:11:18.795244Z",
     "iopub.status.busy": "2024-11-15T10:11:18.794309Z",
     "iopub.status.idle": "2024-11-15T10:11:18.841718Z",
     "shell.execute_reply": "2024-11-15T10:11:18.840663Z",
     "shell.execute_reply.started": "2024-11-15T10:11:18.795196Z"
    },
    "trusted": true
   },
   "outputs": [],
   "source": [
    "# Save the model\n",
    "model.save('payment_fraud_detection_model.h5')"
   ]
  }
 ],
 "metadata": {
  "kaggle": {
   "accelerator": "none",
   "dataSources": [
    {
     "datasetId": 6086583,
     "sourceId": 9906883,
     "sourceType": "datasetVersion"
    },
    {
     "datasetId": 6092013,
     "sourceId": 9914006,
     "sourceType": "datasetVersion"
    },
    {
     "datasetId": 6092132,
     "sourceId": 9914163,
     "sourceType": "datasetVersion"
    },
    {
     "isSourceIdPinned": true,
     "modelId": 165344,
     "modelInstanceId": 142766,
     "sourceId": 167813,
     "sourceType": "modelInstanceVersion"
    }
   ],
   "dockerImageVersionId": 30786,
   "isGpuEnabled": false,
   "isInternetEnabled": false,
   "language": "python",
   "sourceType": "notebook"
  },
  "kernelspec": {
   "display_name": "Python 3",
   "language": "python",
   "name": "python3"
  },
  "language_info": {
   "codemirror_mode": {
    "name": "ipython",
    "version": 3
   },
   "file_extension": ".py",
   "mimetype": "text/x-python",
   "name": "python",
   "nbconvert_exporter": "python",
   "pygments_lexer": "ipython3",
   "version": "3.10.14"
  }
 },
 "nbformat": 4,
 "nbformat_minor": 4
}
